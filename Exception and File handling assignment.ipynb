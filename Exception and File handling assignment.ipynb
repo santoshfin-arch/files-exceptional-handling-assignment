{
 "cells": [
  {
   "cell_type": "markdown",
   "metadata": {
    "id": "vL8V8AiwF-7H"
   },
   "source": [
    "# ***File, exception handling, logging and memory management Questions***"
   ]
  },
  {
   "cell_type": "markdown",
   "metadata": {
    "id": "2hH7TyVZGhYG"
   },
   "source": [
    "**1 What is the difference between interpreted and compiled languages?**\n",
    "- Difference is that compiled languages are fully translated into machine code before execution, while interpreted languages are translated and executed line-by-line at runtime. Compiled programs generally run faster because the translation overhead is done only once, but interpreted programs are often more flexible, easier to debug, and more platform-independent.  \n",
    "-  Examples of compiled langeages: C, C++\n",
    "- Ex amples of interpreted languages: Javascript, Python.\n",
    "\n",
    "\n"
   ]
  },
  {
   "cell_type": "markdown",
   "metadata": {
    "id": "RNFyYwMvJcou"
   },
   "source": [
    "***2 what is excpetion handling in python?***\n",
    "- Exception handling in Python refers to managing runtime errors that may occur during the execution of a program. In Python, exceptions are raised when errors or unexpected situations arise during program execution, such as division by zero, trying to access a file that does not exist, or attempting to perform an operation on incompatible data types.\n"
   ]
  },
  {
   "cell_type": "code",
   "execution_count": null,
   "metadata": {
    "id": "kLqnqcaCJhAG"
   },
   "outputs": [],
   "source": [
    "try:\n",
    "    num = int(input(\"Enter a number: \"))\n",
    "    result = 10 / num\n",
    "    print(\"Result:\", result)\n",
    "except ZeroDivisionError:\n",
    "    print(\"Error: Cannot divide by zero.\")\n",
    "except ValueError:\n",
    "    print(\"Error: Invalid input, please enter a number.\")\n",
    "finally:\n",
    "    print(\"Program ended.\")\n"
   ]
  },
  {
   "cell_type": "markdown",
   "metadata": {
    "id": "eLeHnl-8Jm4f"
   },
   "source": [
    "***3. what is the purpose of finally block in python exception handling?***\n",
    "- The finally block in Python's exception handling mechanism (try...except...finally) serves the purpose of ensuring that certain code is executed regardless of whether an exception occurred or not within the try block, and regardless of whether that exception was handled by an except block."
   ]
  },
  {
   "cell_type": "markdown",
   "metadata": {
    "id": "pZjulLPNJzYm"
   },
   "source": [
    "***4. what is logging in python?***\n",
    "- Logging in Python is the process of systematically recording events that occur during the execution of a program. It involves capturing and storing information about various occurrences, such as errors, warnings, informational messages, and debugging details.\n",
    "- Python logging is a module for tracking events, errors, and warnings during program execution, providing fine-grained control over log messages."
   ]
  },
  {
   "cell_type": "markdown",
   "metadata": {
    "id": "4Qhx77DxP1ZG"
   },
   "source": [
    "**5. What is the significance of __del__ method in python?**\n",
    "- The __del__ method is a special method in Python that is called when an object is about to be destroyed. It allows you to define specific cleanup actions that should be taken when an object is garbage collected. This method can be particularly useful for releasing external resources such as file handles, network connections, or database connections that the object may hold."
   ]
  },
  {
   "cell_type": "markdown",
   "metadata": {
    "id": "8Id7DlmsQFUF"
   },
   "source": [
    "**6. What is the difference between import and from ... import in Python?**\n",
    "- The difference between import and from ... import in Python lies in how they make the contents of a module accessible in the current namespace.\n",
    "1. import module_name\n",
    "This statement imports the entire module and makes its contents available through the module's namespace.\n",
    "To access functions, classes, or variables from the imported module, you must prefix them with the module name and a dot (e.g., module_name.function_name()).\n",
    "   \n",
    "2. from module_name import item_name\n",
    "This statement imports specific items (functions, classes, or variables) directly into the current namespace.\n",
    "You can then use these imported items directly without needing to prefix them with the module name.\n",
    "     "
   ]
  },
  {
   "cell_type": "code",
   "execution_count": null,
   "metadata": {
    "id": "Mc15o_smWjcF"
   },
   "outputs": [],
   "source": [
    "    import math\n",
    "    result = math.sqrt(25)  # Accessing sqrt from the math module\n",
    "    print(result)\n",
    "'''---------------------------'''\n",
    "    from math import sqrt\n",
    "    result = sqrt(25)      # Accessing sqrt directly\n",
    "    print(result)"
   ]
  },
  {
   "cell_type": "markdown",
   "metadata": {
    "id": "m9WBISfpk9TH"
   },
   "source": [
    "**7. How to handle multiple exceptions in python?**\n",
    "- 1. Handling Multiple Exceptions with a Single except Block:\n",
    "If multiple exceptions should be handled in the same way, they can be grouped together in a tuple within a single except block.\n",
    "- 2. Handling Multiple Exceptions with Separate except Blocks:\n",
    "If different exceptions require distinct handling logic, separate except blocks can be used for each exception type.\n",
    "- 3. Handling Exception Groups (Python 3.11+):\n",
    "Python 3.11 introduced ExceptionGroup and the except* clause for handling groups of unrelated exceptions that might occur concurrently.\n"
   ]
  },
  {
   "cell_type": "markdown",
   "metadata": {
    "id": "6PjV9MQm1OgQ"
   },
   "source": [
    "**8 What is the purpose of with statement while handling files in Python?**\n",
    "- The purpose of the with statement when handling files in Python is to ensure proper resource management, specifically that the file is automatically closed after its use, even if errors occur during the file operations. This is achieved through Python's context manager protocol.\n",
    "- The \"with\" statement in Python simplifies resource management by automatically handling setup and cleanup tasks. It's commonly used with files, network connections and databases to ensure resources are properly released even if errors occur making your code cleaner.\n"
   ]
  },
  {
   "cell_type": "markdown",
   "metadata": {
    "id": "1D_K0wD01_o1"
   },
   "source": [
    "**9 what is the difference between multithreading and multiprocessing in python?**\n",
    "Multiprocessing uses multiple CPUs to run many processes at a time while multithreading creates multiple threads within a single process to get faster and more efficient task execution. Both Multiprocessing and Multithreading are used to increase the computing power of a system in different ways."
   ]
  },
  {
   "cell_type": "markdown",
   "metadata": {
    "id": "rh6efdvu2fq9"
   },
   "source": []
  },
  {
   "cell_type": "markdown",
   "metadata": {
    "id": "pR2Lejud2iRW"
   },
   "source": [
    "**10 What are the advantages of using logging in a program?**\n",
    "- Logging is a means of tracking events that happen when some software runs. Logging is important for software developing, debugging, and running.\n",
    "- Logging provides essential advantages like troubleshooting bugs and errors, monitoring performance, and tracking activity for security and auditing. It creates a historical record of an application's events, which is crucial for debugging in production, understanding user behavior, and maintaining the application's reliability over time."
   ]
  },
  {
   "cell_type": "markdown",
   "metadata": {
    "id": "ruVoHm1Y3GrG"
   },
   "source": [
    "**11 What is memory management in Python?**\n",
    "- Memory management refers to process of allocating and deallocating memory to a program while it runs. Python handles memory management automatically using mechanisms like reference counting and garbage collection, which means programmers do not have to manually manage memory."
   ]
  },
  {
   "cell_type": "markdown",
   "metadata": {
    "id": "nWebznkvExEz"
   },
   "source": [
    "**12 what are the basic steps involved in exception handling in python?**\n",
    "Exception handling in Python primarily involves the use of try, except, else, and finally blocks.\n",
    "1. try block: encloses the code segment where an exception might potentially occur. If an exception arises within the try block, the execution of the remaining code within that try block is halted, and control is transferred to the appropriate except block.\n",
    "2. except block(s): immediately follow the try block and are responsible for catching and handling specific types of exceptions. You can have multiple except blocks to handle different exception types, allowing for tailored responses to various errors.\n",
    "An except block can also be used without specifying an exception type to catch all exceptions, though this is generally discouraged for better error management.\n",
    "3. else block (optional):\n",
    "This block, if present, executes only if no exception occurs within the try block.\n",
    "It is useful for code that should only run when the try block completes successfully.\n",
    "4. finally block (optional):\n",
    "This block executes unconditionally, regardless of whether an exception occurred in the try block or was handled by an except block.\n",
    "It is typically used for cleanup operations, such as closing files or releasing resources, ensuring these actions happen even if an error occurs."
   ]
  },
  {
   "cell_type": "markdown",
   "metadata": {
    "id": "AY0Bhg2TVRS-"
   },
   "source": [
    "**13. Why is memory management important in Python?**\n",
    "- Memory management in Python is important because it ensures efficient use of memory, prevents memory leaks, and keeps programs fast and stable. Python does this automatically through reference counting and garbage collection, which free memory no longer in use."
   ]
  },
  {
   "cell_type": "markdown",
   "metadata": {
    "id": "RBI1hfmoYCr2"
   },
   "source": [
    "**14. What is the role of try and except in exception handling?**\n",
    "- The try block contains code that might cause an error.\n",
    "- The except block handles the error, preventing the program from crashing."
   ]
  },
  {
   "cell_type": "markdown",
   "metadata": {
    "id": "VTIq3hxxZls-"
   },
   "source": [
    "**15. HOw does python garbage collection system work?**\n",
    "- Python’s garbage collection system automatically frees memory by deleting objects that are no longer used. It mainly works through reference counting (tracking how many references point to an object) and a cyclic garbage collector that removes objects involved in reference cycles."
   ]
  },
  {
   "cell_type": "markdown",
   "metadata": {
    "id": "OGOecYOwZ_gO"
   },
   "source": [
    "**16. what is the purpose of else block in exception handling?**\n",
    "In Python, the else block in exception handling runs only if no exception occurs in the try block. It’s used for code that should execute when everything goes right."
   ]
  },
  {
   "cell_type": "markdown",
   "metadata": {
    "id": "mE_HnmxaaXwG"
   },
   "source": [
    "**17 what are the common logging levels in python?**\n",
    "- The common logging levels in Python are:\n",
    "\n",
    "DEBUG – Detailed information, useful for debugging.\n",
    "\n",
    "INFO – General information about program execution.\n",
    "\n",
    "WARNING – Indicates something unexpected, but the program still runs.\n",
    "\n",
    "ERROR – A serious issue that caused part of the program to fail.\n",
    "\n",
    "CRITICAL – A severe error causing the program to stop."
   ]
  },
  {
   "cell_type": "markdown",
   "metadata": {
    "id": "dQhqBbeiaus_"
   },
   "source": [
    "**18 what is the difference between os.fork and multiprocessing?**\n",
    "- The difference between os.fork() and multiprocessing in Python is:\n",
    "\n",
    "- - os.fork()\n",
    "\n",
    "  -Works only on Unix/Linux systems.\n",
    "\n",
    "  -Creates a child process by duplicating the parent process.\n",
    "\n",
    "  -Requires manual management of communication between processes.\n",
    "\n",
    "- - multiprocessing:\n",
    "\n",
    "  -Cross-platform (works on Windows and Unix).\n",
    "\n",
    "  -Provides a high-level API to create and manage processes easily.\n",
    "\n",
    "  -Includes tools for inter-process communication and synchronization."
   ]
  },
  {
   "cell_type": "markdown",
   "metadata": {
    "id": "MWCyNZ2CdKSX"
   },
   "source": [
    "**19. What is the importance of closing a file in Python?**\n",
    "- Closing a file in Python is important because it:\n",
    "\n",
    "Frees system resources used by the file.\n",
    "\n",
    "Saves data properly by flushing the buffer to disk.\n",
    "\n",
    "Prevents data corruption or file access issues.\n"
   ]
  },
  {
   "cell_type": "markdown",
   "metadata": {
    "id": "QpNhiMvqev7H"
   },
   "source": [
    "**20 what is the difference between file.read() and file.readlines() in python**\n",
    "The difference between file.read() and file.readlines() is:\n",
    "\n",
    "file.read() → Reads the entire file as one string.\n",
    "\n",
    "file.readlines() → Reads the file and returns a list of lines."
   ]
  },
  {
   "cell_type": "code",
   "execution_count": null,
   "metadata": {
    "id": "FBR0cb1ze37B"
   },
   "outputs": [],
   "source": [
    "f = open(\"test.txt\", \"r\")\n",
    "print(f.read())       # 'Hello\\nWorld'\n",
    "f.seek(0)\n",
    "print(f.readlines())  # ['Hello\\n', 'World']\n",
    "f.close()\n"
   ]
  },
  {
   "cell_type": "markdown",
   "metadata": {
    "id": "yBzcjOaFdiwX"
   },
   "source": [
    "**21. What is the logging module in Python used for?**\n",
    "- The logging module in Python is used to track events that happen during program execution. It allows you to record information, warnings, errors, and debug messages in a flexible way, helping with monitoring and troubleshooting your code."
   ]
  },
  {
   "cell_type": "markdown",
   "metadata": {
    "id": "cx54NK0oizCu"
   },
   "source": [
    "**22 What is the OS module in python used for in file handling in python?**\n",
    "\n",
    "The os module in Python is used for interacting with the operating system, especially for file and directory operations. In file handling, it can:\n",
    "\n",
    "Create, remove, and rename files or directories (os.mkdir(), os.remove(), os.rename())\n",
    "\n",
    "Check file or directory existence (os.path.exists())\n",
    "\n",
    "Get file or directory information (os.path.getsize(), os.getcwd())\n",
    "\n",
    "Navigate directories (os.chdir(), os.listdir())"
   ]
  },
  {
   "cell_type": "markdown",
   "metadata": {
    "id": "faO93zzpjeWW"
   },
   "source": [
    "**23 What are the challenges associated with memory management in Python?**\n",
    "Challenges associated with memory management in Python include:\n",
    "\n",
    "Memory Leaks – Objects that are no longer needed may stay in memory due to lingering references or circular references.\n",
    "\n",
    "High Memory Usage – Large data structures (lists, dictionaries) can consume a lot of RAM.\n",
    "\n",
    "Garbage Collection Overhead – Automatic garbage collection can occasionally slow down programs.\n",
    "\n",
    "Fragmentation – Frequent allocation and deallocation can fragment memory, reducing efficiency.\n",
    "\n",
    "Cross-Platform Differences – Memory behavior may vary between platforms (Windows vs. Linux)."
   ]
  },
  {
   "cell_type": "markdown",
   "metadata": {
    "id": "_6oAhIVykKcP"
   },
   "source": [
    "**24 How do you raise an exception manually in python?**\n",
    "In Python, you can raise an exception manually using the raise statement. You can raise a built-in exception or a custom one."
   ]
  },
  {
   "cell_type": "code",
   "execution_count": 1,
   "metadata": {
    "colab": {
     "base_uri": "https://localhost:8080/",
     "height": 176
    },
    "id": "bbAgQNFvl5tI",
    "outputId": "a7f9f8a6-bb46-4646-db34-09a9461810cb"
   },
   "outputs": [
    {
     "ename": "ValueError",
     "evalue": "x cannot be negative",
     "output_type": "error",
     "traceback": [
      "\u001b[0;31m---------------------------------------------------------------------------\u001b[0m",
      "\u001b[0;31mValueError\u001b[0m                                Traceback (most recent call last)",
      "\u001b[0;32m/tmp/ipython-input-2972653589.py\u001b[0m in \u001b[0;36m<cell line: 0>\u001b[0;34m()\u001b[0m\n\u001b[1;32m      1\u001b[0m \u001b[0mx\u001b[0m \u001b[0;34m=\u001b[0m \u001b[0;34m-\u001b[0m\u001b[0;36m5\u001b[0m\u001b[0;34m\u001b[0m\u001b[0;34m\u001b[0m\u001b[0m\n\u001b[1;32m      2\u001b[0m \u001b[0;32mif\u001b[0m \u001b[0mx\u001b[0m \u001b[0;34m<\u001b[0m \u001b[0;36m0\u001b[0m\u001b[0;34m:\u001b[0m\u001b[0;34m\u001b[0m\u001b[0;34m\u001b[0m\u001b[0m\n\u001b[0;32m----> 3\u001b[0;31m     \u001b[0;32mraise\u001b[0m \u001b[0mValueError\u001b[0m\u001b[0;34m(\u001b[0m\u001b[0;34m\"x cannot be negative\"\u001b[0m\u001b[0;34m)\u001b[0m\u001b[0;34m\u001b[0m\u001b[0;34m\u001b[0m\u001b[0m\n\u001b[0m",
      "\u001b[0;31mValueError\u001b[0m: x cannot be negative"
     ]
    }
   ],
   "source": [
    "x = -5\n",
    "if x < 0:\n",
    "    raise ValueError(\"x cannot be negative\")"
   ]
  },
  {
   "cell_type": "markdown",
   "metadata": {
    "id": "50QwQLGNmPDH"
   },
   "source": [
    "**25 Why is it important to use multithreading in certain applications?**\n",
    "- It is important to use multithreading in applications to improve performance, increase responsiveness, and enhance scalability by allowing multiple tasks to run concurrently. This enables applications to perform better, especially when handling tasks like heavy computation, network communication, or user interface interactions, by making more efficient use of system resources like the CPU.\n"
   ]
  },
  {
   "cell_type": "markdown",
   "metadata": {
    "id": "mCoG0JtKoK__"
   },
   "source": [
    "## **Practical Questions**"
   ]
  },
  {
   "cell_type": "code",
   "execution_count": 1,
   "metadata": {
    "colab": {
     "base_uri": "https://localhost:8080/"
    },
    "id": "l-Am6wXGoidH",
    "outputId": "c45855b5-1796-419a-a8dd-ee7e4c407ce6"
   },
   "outputs": [
    {
     "name": "stdout",
     "output_type": "stream",
     "text": [
      "Hello, world!\n",
      "This is a second line.\n",
      "\n"
     ]
    }
   ],
   "source": [
    "# 1 How can you Open a file for writing and write a string to it in Python?\n",
    "\n",
    "# Write to the file\n",
    "with open(\"example.txt\", \"w\") as file:\n",
    "    file.write(\"Hello, world!\\n\")\n",
    "    file.write(\"This is a second line.\\n\")\n",
    "\n",
    "# Read from the file\n",
    "with open(\"example.txt\", \"r\") as file:\n",
    "    content = file.read()\n",
    "    print(content)\n"
   ]
  },
  {
   "cell_type": "code",
   "execution_count": 2,
   "metadata": {},
   "outputs": [
    {
     "name": "stdout",
     "output_type": "stream",
     "text": [
      "Hello, world!\n",
      "This is a second line.\n"
     ]
    }
   ],
   "source": [
    "# 2 Write a program to read a file and print each line.\n",
    "with open(\"example.txt\", \"r\") as file:\n",
    "    # Loop through each line in the file\n",
    "    for line in file:\n",
    "        print(line.strip())  # strip() removes the newline character\n"
   ]
  },
  {
   "cell_type": "code",
   "execution_count": 4,
   "metadata": {},
   "outputs": [
    {
     "name": "stdout",
     "output_type": "stream",
     "text": [
      "Hello, world!\n",
      "This is a second line.\n",
      "The file does not exist.\n"
     ]
    }
   ],
   "source": [
    "# 3. How would you handle a case where a file doesn't exist while trying to open it for reading?\n",
    "try:\n",
    "    with open(\"example.txt\", \"r\") as file:\n",
    "        for line in file:\n",
    "            print(line.strip())\n",
    "except FileNotFoundError:\n",
    "    print(\"The file does not exist.\")\n",
    "\n",
    "'''-------------------'''\n",
    "\n",
    "try:\n",
    "    with open(\"Nofile.txt\", \"r\") as file:\n",
    "        for line in file:\n",
    "            print(line.strip())\n",
    "except FileNotFoundError:\n",
    "    print(\"The file does not exist.\")\n"
   ]
  },
  {
   "cell_type": "code",
   "execution_count": 6,
   "metadata": {},
   "outputs": [
    {
     "name": "stdout",
     "output_type": "stream",
     "text": [
      "File content copied successfully.\n"
     ]
    }
   ],
   "source": [
    "# 4.Write a Python script that reads from one file and writes its content to another file.\n",
    "# Specify the source and destination file names\n",
    "source_file = 'example.txt'      # Replace with your source file name\n",
    "destination_file = 'output.txt' # Replace with your destination file name\n",
    "\n",
    "# Open the source file in read mode and the destination file in write mode\n",
    "with open(source_file, 'r') as infile:\n",
    "    content = infile.read()  # Read content from source file\n",
    "\n",
    "with open(destination_file, 'w') as outfile:\n",
    "    outfile.write(content)   # Write content to destination file\n",
    "\n",
    "print(\"File content copied successfully.\")\n"
   ]
  },
  {
   "cell_type": "code",
   "execution_count": 8,
   "metadata": {},
   "outputs": [
    {
     "name": "stdin",
     "output_type": "stream",
     "text": [
      "enter a number 8\n"
     ]
    },
    {
     "name": "stdout",
     "output_type": "stream",
     "text": [
      "Error: Division by zero is not allowed.\n"
     ]
    }
   ],
   "source": [
    "# 5 How would you catch and handle division by zero error in Python?\n",
    "try:\n",
    "    result = int(input(\"enter a number\"))/ 0  # This will raise ZeroDivisionError\n",
    "except ZeroDivisionError:\n",
    "    print(\"Error: Division by zero is not allowed.\")\n",
    "else:\n",
    "    print(\"Result is:\", result)\n"
   ]
  },
  {
   "cell_type": "code",
   "execution_count": 12,
   "metadata": {},
   "outputs": [
    {
     "name": "stdout",
     "output_type": "stream",
     "text": [
      "If an error occurred, it has been logged to error.log.\n"
     ]
    }
   ],
   "source": [
    "#6 Write a Python program that logs an error message to a log file when a division by zero exception occurs.\n",
    "\n",
    "import logging\n",
    "\n",
    "# Set up logging configuration\n",
    "logging.basicConfig(filename='error.log', level=logging.ERROR)\n",
    "\n",
    "try:\n",
    "    result = 10 / 0  # This causes a ZeroDivisionError\n",
    "except ZeroDivisionError as e:\n",
    "    logging.error(\"Division by zero occurred: %s\", e)\n",
    "\n",
    "print(\"If an error occurred, it has been logged to error.log.\")\n"
   ]
  },
  {
   "cell_type": "code",
   "execution_count": 11,
   "metadata": {},
   "outputs": [
    {
     "data": {
      "text/plain": [
       "['Hello, world!\\n', 'This is a second line.\\n']"
      ]
     },
     "execution_count": 11,
     "metadata": {},
     "output_type": "execute_result"
    }
   ],
   "source": [
    "# 9 How can you read a file line by line and store its content in a list in Python?\n",
    "with open('example.txt', 'r') as file:\n",
    "    lines = file.readlines()\n",
    "lines"
   ]
  },
  {
   "cell_type": "code",
   "execution_count": 16,
   "metadata": {},
   "outputs": [],
   "source": [
    "#10 How can you append data to an existing file in Python?\n",
    "with open('example.txt', 'a') as file:\n",
    "    file.write(\"This is the appended data.\\n\")\n",
    "    \n"
   ]
  },
  {
   "cell_type": "code",
   "execution_count": 17,
   "metadata": {},
   "outputs": [
    {
     "name": "stdout",
     "output_type": "stream",
     "text": [
      "Error: The key 'grade' does not exist in the dictionary.\n"
     ]
    }
   ],
   "source": [
    "#11 Write a Python program that uses a try-except block to handle an error when attempting to access a dictionary key that doesn't exist.\n",
    "# Define a dictionary\n",
    "student = {\"name\": \"Santosh\", \"Salary\": 50000}\n",
    "\n",
    "# Try to access a key that might not exist\n",
    "try:\n",
    "    print(student[\"marks\"])\n",
    "except KeyError:\n",
    "    print(\"Error: The key 'grade' does not exist in the dictionary.\")\n"
   ]
  },
  {
   "cell_type": "code",
   "execution_count": null,
   "metadata": {},
   "outputs": [],
   "source": [
    "#12 Write a program that demonstrates using multiple except blocks to handle different types of exceptions.\n"
   ]
  },
  {
   "cell_type": "code",
   "execution_count": 3,
   "metadata": {},
   "outputs": [
    {
     "name": "stdout",
     "output_type": "stream",
     "text": [
      "file exist.\n"
     ]
    }
   ],
   "source": [
    "#13 How would you check if a file exists before attempting to read it in Python?\n",
    "\n",
    "import os\n",
    "\n",
    "filename = 'example.txt'\n",
    "if os.path.exists(filename):\n",
    "    with open(filename, 'r') as file:\n",
    "        content = file.read()\n",
    "        print(\"file exist.\")\n",
    "else:\n",
    "    print(\"File does not exist.\")\n"
   ]
  },
  {
   "cell_type": "code",
   "execution_count": 4,
   "metadata": {},
   "outputs": [
    {
     "name": "stdout",
     "output_type": "stream",
     "text": [
      "Messages have been logged to app.log.\n"
     ]
    }
   ],
   "source": [
    "#14 Write a program that uses the logging module to log both informational and error messages.\n",
    "import logging\n",
    "\n",
    "# Configure logging\n",
    "logging.basicConfig(filename='app.log', level=logging.INFO)\n",
    "\n",
    "logging.info(\"This is an informational message.\")\n",
    "logging.error(\"This is an error message.\")\n",
    "\n",
    "print(\"Messages have been logged to app.log.\")\n"
   ]
  },
  {
   "cell_type": "code",
   "execution_count": 5,
   "metadata": {},
   "outputs": [
    {
     "name": "stdout",
     "output_type": "stream",
     "text": [
      "Hello, world!\n",
      "This is a second line.\n",
      "This is the appended data.\n",
      "This is the appended data.\n",
      "This is the appended data.\n",
      "\n"
     ]
    }
   ],
   "source": [
    "#15 Write a Python program that prints the content of a file and handles the case when the file is empty.\n",
    "filename = 'example.txt'\n",
    "\n",
    "try:\n",
    "    with open(filename, 'r') as file:\n",
    "        content = file.read()\n",
    "        if content:\n",
    "            print(content)\n",
    "        else:\n",
    "            print(\"The file is empty.\")\n",
    "except FileNotFoundError:\n",
    "    print(f\"The file '{filename}' does not exist.\")\n"
   ]
  },
  {
   "cell_type": "code",
   "execution_count": null,
   "metadata": {},
   "outputs": [],
   "source": [
    "#16 Demonstrate how to use memory profiling to check the memory usage of a small program.\n",
    "\n",
    "#You can install it (if not already installed) using:\n",
    "pip install memory_profiler\n",
    "from memory_profiler import profile\n",
    "\n",
    "#small python program.\n",
    "@profile\n",
    "def my_func():\n",
    "    a = [1] * (10 ** 6)\n",
    "    b = [2] * (2 * 10 ** 7)\n",
    "    del b\n",
    "    return a\n",
    "\n",
    "if __name__ == '__main__':\n",
    "    my_func()\n",
    "\n",
    "# Run it in  terminal using:\n",
    "python -m memory_profiler your_script_name.py"
   ]
  },
  {
   "cell_type": "code",
   "execution_count": 8,
   "metadata": {},
   "outputs": [
    {
     "name": "stdout",
     "output_type": "stream",
     "text": [
      "5\n",
      "62\n",
      "43\n",
      "14\n",
      "55\n",
      "\n"
     ]
    }
   ],
   "source": [
    "# 17 Write a Python program to create and write a list of numbers to a file, one number per line.\n",
    "numbers = [5, 62, 43, 14, 55]\n",
    "\n",
    "with open('numbers.txt', 'w') as file:\n",
    "    for num in numbers:\n",
    "        file.write(str(num) + '\\n')\n",
    "# -------------this is for reading-----------\n",
    "with open(\"numbers.txt\", \"r\") as file:\n",
    "    content = file.read()\n",
    "    print(content)    \n"
   ]
  },
  {
   "cell_type": "code",
   "execution_count": 9,
   "metadata": {},
   "outputs": [],
   "source": [
    "#18 How would you implement a basic logging setup that logs to a file with rotation after 1MB?\n",
    "import logging\n",
    "from logging.handlers import RotatingFileHandler\n",
    "\n",
    "# Set up a rotating file handler\n",
    "handler = RotatingFileHandler('app.log', maxBytes=1_048_576, backupCount=3)  # 1MB = 1048576 bytes\n",
    "\n",
    "logging.basicConfig(\n",
    "    level=logging.INFO,\n",
    "    handlers=[handler],\n",
    "    format='%(asctime)s - %(levelname)s - %(message)s'\n",
    ")\n",
    "\n",
    "logging.info(\"This is an info message.\")\n",
    "logging.error(\"This is an error message.\")\n",
    "''' This configuration creates log rotation: once app.log reaches 1MB,\n",
    "it will be renamed and logging will continue to a new file, keeping up to 3 backups.'''\n"
   ]
  },
  {
   "cell_type": "code",
   "execution_count": 10,
   "metadata": {},
   "outputs": [
    {
     "name": "stdout",
     "output_type": "stream",
     "text": [
      "Error: List index out of range.\n"
     ]
    }
   ],
   "source": [
    "#19 Write a program that handles both IndexError and KeyError using a try-except block\n",
    "my_list = [150, 50, 35]\n",
    "my_dict = {'name': 'Santosh'}\n",
    "\n",
    "try:\n",
    "    print(my_list[5])       # IndexError\n",
    "    print(my_dict['age'])   # KeyError\n",
    "except IndexError:\n",
    "    print(\"Error: List index out of range.\")\n",
    "except KeyError:\n",
    "    print(\"Error: Key not found in dictionary.\")\n"
   ]
  },
  {
   "cell_type": "code",
   "execution_count": 11,
   "metadata": {},
   "outputs": [
    {
     "name": "stdout",
     "output_type": "stream",
     "text": [
      "Hello, world!\n",
      "This is a second line.\n",
      "This is the appended data.\n",
      "This is the appended data.\n",
      "This is the appended data.\n",
      "\n"
     ]
    }
   ],
   "source": [
    "#20 How would you open a file and read its contents using a context manager in Python?\"\n",
    "with open('example.txt', 'r') as file:\n",
    "    content = file.read()\n",
    "    print(content)\n"
   ]
  },
  {
   "cell_type": "code",
   "execution_count": 17,
   "metadata": {},
   "outputs": [
    {
     "name": "stdout",
     "output_type": "stream",
     "text": [
      "The word 'data.' occurs 3 times in the file.\n"
     ]
    }
   ],
   "source": [
    "#21 Write a Python program that reads a file and prints the number of occurrences of a specific word\n",
    "filename = 'example.txt'\n",
    "word_to_count = 'data.'\n",
    "\n",
    "with open(filename, 'r') as file:\n",
    "    content = file.read()\n",
    "    count = content.lower().split().count(word_to_count.lower())\n",
    "    print(f\"The word '{word_to_count}' occurs {count} times in the file.\")\n"
   ]
  },
  {
   "cell_type": "code",
   "execution_count": 18,
   "metadata": {},
   "outputs": [
    {
     "name": "stdout",
     "output_type": "stream",
     "text": [
      "Hello, world!\n",
      "This is a second line.\n",
      "This is the appended data.\n",
      "This is the appended data.\n",
      "This is the appended data.\n",
      "\n"
     ]
    }
   ],
   "source": [
    "#22 How can you check if a file is empty before attempting to read its contents?\n",
    "import os\n",
    "\n",
    "filename = 'example.txt'\n",
    "if os.path.getsize(filename) == 0:\n",
    "    print(\"File is empty.\")\n",
    "else:\n",
    "    with open(filename, 'r') as file:\n",
    "        content = file.read()\n",
    "        print(content)\n"
   ]
  },
  {
   "cell_type": "code",
   "execution_count": 19,
   "metadata": {},
   "outputs": [
    {
     "name": "stdout",
     "output_type": "stream",
     "text": [
      "If an error occurred, it has been logged to file_errors.log.\n"
     ]
    }
   ],
   "source": [
    "#23 Write a Python program that writes to a log file when an error occurs during file handling.\n",
    "import logging\n",
    "\n",
    "logging.basicConfig(filename='file_errors.log', level=logging.ERROR)\n",
    "\n",
    "filename = 'nonexistent.txt'\n",
    "\n",
    "try:\n",
    "    with open(filename, 'r') as file:\n",
    "        content = file.read()\n",
    "except Exception as e:\n",
    "    logging.error(\"Error occurred while handling the file: %s\", e)\n",
    "\n",
    "print(\"If an error occurred, it has been logged to file_errors.log.\")\n"
   ]
  },
  {
   "cell_type": "code",
   "execution_count": null,
   "metadata": {},
   "outputs": [],
   "source": []
  }
 ],
 "metadata": {
  "colab": {
   "provenance": []
  },
  "kernelspec": {
   "display_name": "Python 3 (ipykernel)",
   "language": "python",
   "name": "python3"
  },
  "language_info": {
   "codemirror_mode": {
    "name": "ipython",
    "version": 3
   },
   "file_extension": ".py",
   "mimetype": "text/x-python",
   "name": "python",
   "nbconvert_exporter": "python",
   "pygments_lexer": "ipython3",
   "version": "3.13.5"
  }
 },
 "nbformat": 4,
 "nbformat_minor": 4
}
